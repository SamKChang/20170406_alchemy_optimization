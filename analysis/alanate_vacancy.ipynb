{
 "cells": [
  {
   "cell_type": "code",
   "execution_count": 2,
   "metadata": {
    "collapsed": true
   },
   "outputs": [],
   "source": [
    "import glob\n",
    "import urllib2\n",
    "import qctoolkit as qtk\n",
    "import numpy as np\n",
    "import matplotlib.pyplot as plt\n",
    "from matplotlib import gridspec\n",
    "import copy\n",
    "import scipy as sp\n",
    "plt.style.use('classic')\n",
    "\n",
    "%matplotlib inline"
   ]
  },
  {
   "cell_type": "markdown",
   "metadata": {},
   "source": [
    "# Data construction for Alanates"
   ]
  },
  {
   "cell_type": "code",
   "execution_count": 3,
   "metadata": {},
   "outputs": [
    {
     "name": "stdout",
     "output_type": "stream",
     "text": [
      "0.029\n"
     ]
    }
   ],
   "source": [
    "unit = 'ev'\n",
    "\n",
    "E_Ca = -0.390 # in eV from materials project\n",
    "E_Sr = -0.419 # in eV from materials project\n",
    "dE = qtk.convE(E_Ca - E_Sr, 'eV-%s' % unit)[0]\n",
    "print dE\n",
    "\n",
    "# raw input sorted by names\n",
    "ref_raw = qtk.pload('ref.pkl')\n",
    "pred_raw = qtk.pload('pred.pkl')"
   ]
  },
  {
   "cell_type": "markdown",
   "metadata": {},
   "source": [
    "Since E_Sr is lower, every Ca crystals need to be shifted upward by dE"
   ]
  },
  {
   "cell_type": "code",
   "execution_count": 4,
   "metadata": {
    "collapsed": true
   },
   "outputs": [],
   "source": [
    "# striping only experimental accessible Ca, Sr alanates\n",
    "# ditching Mg related alanates\n",
    "\n",
    "# for reference\n",
    "ref_raw_all = []\n",
    "ref_raw_ca = []\n",
    "ref_raw_sr = []\n",
    "for r in ref_raw:\n",
    "    cyl, root = r.name.replace('.out', '').split('-')\n",
    "    if 'Mg' not in cyl and 'Mg' not in root:\n",
    "        \n",
    "        #if 'Mg' not in root:\n",
    "        if root!='Mg':\n",
    "            ref_raw_all.append(r)\n",
    "        if 'Ca' in root:\n",
    "            ref_raw_ca.append(r)\n",
    "        if 'Sr' in root:\n",
    "            ref_raw_sr.append(r)\n",
    "        #print cyl, root\n",
    "        \n",
    "# for prediction\n",
    "pred_raw_all = []\n",
    "pred_raw_ca = []\n",
    "pred_raw_sr = []\n",
    "for p in pred_raw:\n",
    "    cyl, root = p.name.replace('out', '').split('-')\n",
    "    if 'Mg' not in cyl and 'Mg' not in root:\n",
    "        pred_raw_all.append(p)\n",
    "        if '2Ca' in root:\n",
    "            pred_raw_ca.append(p)\n",
    "        if '2Sr' in root:\n",
    "            pred_raw_sr.append(p)"
   ]
  },
  {
   "cell_type": "code",
   "execution_count": 4,
   "metadata": {},
   "outputs": [
    {
     "name": "stdout",
     "output_type": "stream",
     "text": [
      "total number of crystals:  172\n",
      "Ca crystals:  86\n",
      "Sr crystals:  86\n",
      "native + swapped = 2*(native)\n",
      "\n",
      "total number of predictions:  172\n",
      "(each reference crystal gets one prediction)\n",
      "native + swapped Ca crystals predicted by Sr:  86\n",
      "native + swapped Sr crystals predicted by Ca:  86\n"
     ]
    }
   ],
   "source": [
    "print \"total number of crystals: \",\n",
    "print len(ref_raw_all)\n",
    "print \"Ca crystals: \",\n",
    "print len(ref_raw_ca)\n",
    "print \"Sr crystals: \",\n",
    "print len(ref_raw_sr)\n",
    "print \"native + swapped = 2*(native)\\n\"\n",
    "print \"total number of predictions: \",\n",
    "print len(pred_raw_all)\n",
    "print \"(each reference crystal gets one prediction)\"\n",
    "print \"native + swapped Ca crystals predicted by Sr: \",\n",
    "print len(pred_raw_ca)\n",
    "print \"native + swapped Sr crystals predicted by Ca: \",\n",
    "print len(pred_raw_sr)"
   ]
  },
  {
   "cell_type": "code",
   "execution_count": 5,
   "metadata": {
    "collapsed": true
   },
   "outputs": [],
   "source": [
    "# construct ordering key\n",
    "\n",
    "def reorder_ref(outs):\n",
    "    diffs = []\n",
    "    for k in range(len(outs)):\n",
    "        new = copy.deepcopy(outs[k])\n",
    "        new.inUnit(unit)\n",
    "        Z = np.array(new.molecule.Z)\n",
    "        # number of H2 in the form of AlH4\n",
    "        N = sum(np.ones(new.molecule.N)[Z==13])*(3./4.)\n",
    "        new.Et = new.Et / N\n",
    "        diffs.append(new)\n",
    "    \n",
    "    news = []\n",
    "    order_key = np.argsort([r.Et for r in diffs])\n",
    "    E_base = diffs[order_key[0]].Et\n",
    "    for k in order_key:\n",
    "        new = copy.deepcopy(diffs[k])\n",
    "        new.Et = new.Et - E_base\n",
    "        news.append(new)\n",
    "    #for n in news:\n",
    "    #    n.Et = n.Et - news[0].Et\n",
    "    return news, order_key\n",
    "\n",
    "def reorder_pred(outs, order_key):\n",
    "    diffs = []\n",
    "    for k in range(len(outs)):\n",
    "        new = copy.deepcopy(outs[k])\n",
    "        new.inUnit(unit)\n",
    "        Z = np.array(new.molecule.Z)\n",
    "        # number of H2 in the form of AlH4\n",
    "        N = sum(np.ones(new.molecule.N)[Z==13])*(3./4.)\n",
    "        new.Et = new.Et / N\n",
    "        diffs.append(new)\n",
    "        \n",
    "    news = []\n",
    "    E_base = diffs[order_key[0]].Et\n",
    "    for k in order_key:\n",
    "        new = copy.deepcopy(diffs[k])\n",
    "        new.Et = new.Et - E_base\n",
    "        news.append(new)\n",
    "    return news\n",
    "    \n",
    "\n",
    "ref_sr, key_sr = reorder_ref(ref_raw_sr)\n",
    "pred_sr = reorder_pred(pred_raw_sr, key_sr)\n",
    "\n",
    "# shift Ca crystals by a constant difference\n",
    "ref_ca, key_ca = reorder_ref(ref_raw_ca)\n",
    "pred_ca = reorder_pred(pred_raw_ca, key_ca)\n",
    "for i in range(len(ref_ca)):\n",
    "    o = ref_ca[i]\n",
    "    o.Et = o.Et + dE\n",
    "    \n",
    "    o = pred_ca[i]\n",
    "    o.Et = o.Et + dE"
   ]
  },
  {
   "cell_type": "code",
   "execution_count": 6,
   "metadata": {},
   "outputs": [
    {
     "name": "stdout",
     "output_type": "stream",
     "text": [
      "172\n",
      "172\n"
     ]
    }
   ],
   "source": [
    "ref_all_tmp = list(qtk.flatten([ref_sr, ref_ca]))\n",
    "pred_all_tmp = list(qtk.flatten([pred_sr, pred_ca]))\n",
    "key = np.argsort([r.Et for r in ref_all_tmp])\n",
    "\n",
    "ref_all = []\n",
    "pred_all = []\n",
    "for k in key:\n",
    "    ref_all.append(ref_all_tmp[k])\n",
    "    pred_all.append(pred_all_tmp[k])\n",
    "    \n",
    "print len(ref_all)\n",
    "print len(pred_all)"
   ]
  },
  {
   "cell_type": "code",
   "execution_count": 7,
   "metadata": {},
   "outputs": [
    {
     "name": "stdout",
     "output_type": "stream",
     "text": [
      "86 86 86 86\n"
     ]
    }
   ],
   "source": [
    "# reconstruction of ordered list\n",
    "ref_ca = []\n",
    "ref_sr = []\n",
    "pred_ca = []\n",
    "pred_sr = []\n",
    "index_ca = []\n",
    "index_sr = []\n",
    "index_all = []\n",
    "for i in range(len(ref_all)):\n",
    "    index_all.append(i+1)\n",
    "    r = copy.deepcopy(ref_all[i])\n",
    "    p = copy.deepcopy(pred_all[i])\n",
    "    elem = r.name.replace('.out', '').split('-')[-1]\n",
    "    \n",
    "    if elem == 'Sr':\n",
    "        ref_sr.append(r)\n",
    "        pred_sr.append(p)\n",
    "        index_sr.append(i+1)\n",
    "    elif elem == 'Ca':\n",
    "        ref_ca.append(r)\n",
    "        pred_ca.append(p)\n",
    "        index_ca.append(i+1)\n",
    "\n",
    "print len(ref_ca), len(ref_sr), len(index_ca), len(index_sr)"
   ]
  },
  {
   "cell_type": "code",
   "execution_count": 8,
   "metadata": {},
   "outputs": [
    {
     "name": "stdout",
     "output_type": "stream",
     "text": [
      "[4, 6, 7, 10, 13, 14, 16, 17, 18, 21, 22, 23, 27, 29, 30, 32, 35, 36, 37, 44, 45, 47, 48, 49, 51, 53, 54, 56, 57, 59, 64, 68, 71, 72, 74, 75, 77, 78, 79, 80, 83, 84, 86, 88, 89, 94, 97, 98, 100, 103, 104, 105, 108, 110, 111, 114, 115, 119, 120, 123, 124, 125, 126, 127, 128, 129, 134, 136, 137, 139, 140, 141, 146, 147, 149, 150, 152, 155, 157, 160, 161, 163, 165, 168, 169, 171]\n"
     ]
    }
   ],
   "source": [
    "print index_ca"
   ]
  },
  {
   "cell_type": "code",
   "execution_count": 9,
   "metadata": {
    "collapsed": true
   },
   "outputs": [],
   "source": [
    "# construct plot data\n",
    "Er_ca = [o.Et for o in ref_ca]\n",
    "Er_sr = [o.Et for o in ref_sr]\n",
    "Er_all = [o.Et for o in ref_all]\n",
    "Ep_ca = [o.Et for o in pred_ca]\n",
    "Ep_sr = [o.Et for o in pred_sr]\n",
    "Ep_all = [o.Et for o in pred_all]"
   ]
  },
  {
   "cell_type": "markdown",
   "metadata": {},
   "source": [
    "# Symmetry name"
   ]
  },
  {
   "cell_type": "code",
   "execution_count": 10,
   "metadata": {
    "collapsed": true
   },
   "outputs": [],
   "source": [
    "import os\n",
    "import glob\n",
    "import spglib\n",
    "_subfolder_name = {'i':'isolated', 'p':'polymeric'}\n",
    "\n",
    "def get_symmetry(index, out_list):\n",
    "    element, group, name = out_list[index].name.split('_')\n",
    "    order = name.split('-')[0]\n",
    "    path = 'alanates/%sAlH4/%s' % (element.title(), _subfolder_name[group])\n",
    "    mol_string = '%s/poslow%s[_\\.]SG[0-9]*.ascii' % (path, order)\n",
    "    mol_file_list = glob.glob(mol_string)\n",
    "    if len(mol_file_list) == 1:\n",
    "        mol = qtk.Molecule(mol_file_list[0])\n",
    "        cell = (qtk.celldm2lattice(mol.celldm), mol.R_scale, mol.Z)\n",
    "        #return spg.get_spacegroup(cell, symbol_type=1)\n",
    "        return spglib.get_spacegroup(cell, symprec=1e-2)\n",
    "    else:\n",
    "        return \"\"\n",
    "    \n",
    "def spg_latex(spg):\n",
    "    grp = spg.split(\" \")[0]\n",
    "    grp = grp.replace('-', r'\\bar ')\n",
    "    return '$' + grp + '$'\n",
    "\n",
    "spg_list = []\n",
    "for i in range(len(pred_ca)):\n",
    "    spg_list.append(get_symmetry(i, pred_ca))\n",
    "    \n",
    "    \n",
    "#     for i in index_ca:\n",
    "#         print i,\n",
    "#         element, group, name = pred_ca[i].name.split(\"_\")\n",
    "#         order= int(name.split('-')[0])\n",
    "#         print element, group, order"
   ]
  },
  {
   "cell_type": "markdown",
   "metadata": {},
   "source": [
    "# final plot"
   ]
  },
  {
   "cell_type": "code",
   "execution_count": 11,
   "metadata": {},
   "outputs": [
    {
     "data": {
      "image/png": "[encoded data removed]",
      "text/plain": [
       "<matplotlib.figure.Figure at 0x2aebd4f4a390>"
      ]
     },
     "metadata": {},
     "output_type": "display_data"
    }
   ],
   "source": [
    "N = 150\n",
    "Nt = 30\n",
    "#Nv = len(Er_Ev)\n",
    "#Nva = len(Evp_ref)\n",
    "\n",
    "p_max = max(Er_all[:N])\n",
    "p_min = min(Er_all[:N])\n",
    "y_min = float(p_min - (p_max - p_min) / 10.)\n",
    "y_max = float(p_max + (p_max - p_min) / 10.)\n",
    "\n",
    "fig = plt.figure(figsize=(6.7,6))\n",
    "\n",
    "gs0 = gridspec.GridSpec(2, 1)\n",
    "gs1 = gridspec.GridSpecFromSubplotSpec(1, 1, subplot_spec=gs0[0])\n",
    "gs2 = gridspec.GridSpecFromSubplotSpec(1, 2, subplot_spec=gs0[1])\n",
    "\n",
    "#gs = gridspec.GridSpec(2,2)\n",
    "ax1 = fig.add_subplot(gs1[0, 0])\n",
    "ax_scatter = fig.add_subplot(gs2[0, 0])\n",
    "ax_order = fig.add_subplot(gs2[0, 1])\n",
    "\n",
    "\n",
    "ax_order.plot(index_ca, Ep_ca, ls='', marker='s', label=r'Ca$\\rightarrow$Sr')\n",
    "ax_order.plot(index_sr, Ep_sr, ls='', marker='o', label=r'Sr$\\rightarrow$Ca')\n",
    "ax_order.plot(index_all[:N], Er_all[:N], ls='-', color='k', lw=3, label=r'$\\Delta E^{\\mathrm{true}}$')\n",
    "#ax_order.plot(1000, 1000, color='r', marker='^', label=r'$E_v^{\\mathrm{AlGaAs}}$', ls='')\n",
    "#ax_order.plot(1000, 1000, color='m', marker='v', label=r'$E_v^{\\mathrm{AlGaP}}$', ls='')\n",
    "ax_order.set_xlabel('crystal ID', fontsize=15)\n",
    "ax_order.set_ylabel('$\\Delta E$ [eV/$\\mathrm{H}_2$]', fontsize=15)\n",
    "ax_order.yaxis.tick_right()\n",
    "ax_order.yaxis.set_label_position(\"right\")\n",
    "# ax_order.xaxis.tick_top()\n",
    "# ax_order.xaxis.set_label_position(\"top\")\n",
    "ax_order.set_xlim([1, N+3])\n",
    "ax_order.set_ylim([y_min, y_max])\n",
    "ax_order.legend(loc=(-0.12, 0.42), numpoints=1)\n",
    "ax_order.set_zorder(100)\n",
    "ax_order.set_aspect(float(N)/(y_max - y_min))\n",
    "\n",
    "ax_scatter.plot(Ep_ca[:N], Er_ca[:N], ls='', marker='s')\n",
    "ax_scatter.plot(Ep_sr[:N], Er_sr[:N], ls='', marker='o')\n",
    "ax_scatter.plot([y_min, y_max], [y_min, y_max], color='k', ls='--', lw=2)\n",
    "ax_scatter.set_aspect('equal')\n",
    "ax_scatter.set_xlim(y_min, y_max)\n",
    "ax_scatter.set_ylim(y_min, y_max)\n",
    "# ax_scatter.xaxis.tick_top()\n",
    "# ax_scatter.xaxis.set_label_position(\"top\")\n",
    "ax_scatter.set_ylabel('$\\Delta E^{\\mathrm{true}}$ [eV/$\\mathrm{H}_2$]', fontsize=15)\n",
    "ax_scatter.set_xlabel('$\\Delta E^{\\mathrm{pred}}$ [eV/$\\mathrm{H}_2$]', fontsize=15)\n",
    "\n",
    "\n",
    "order_true = index_all\n",
    "order_pred = (np.argsort(Ep_all)+1).tolist()\n",
    "conn_x_list = zip(order_pred, order_true)\n",
    "conn_y_list = zip([1 for _ in index_all], [2 for _ in index_all])\n",
    "for i in range(len(conn_x_list)):\n",
    "    spg_ref = get_symmetry(i, ref_all)\n",
    "    spg_pred = get_symmetry(i, pred_all)\n",
    "    cx = conn_x_list[i]\n",
    "    cy = conn_y_list[i]\n",
    "    if cx[0] < Nt and cx[1] < Nt:\n",
    "        if abs(cx[0] - cx[1]) == 0:\n",
    "            if cx[1] in index_ca:\n",
    "                ax1.plot(cx, cy, color='b', marker='s')\n",
    "            elif cx[1] in index_sr:\n",
    "                ax1.plot(cx, cy, color='g', marker='o')\n",
    "            x, y = cx[0], cy[0]\n",
    "            ax1.annotate(\n",
    "                spg_latex(spg_pred), \n",
    "                xy=(x - 0.5, y - 0.3), \n",
    "                xytext=(x - 0.5, y - 0.3),\n",
    "                rotation = 90,\n",
    "                fontsize=12,\n",
    "            )\n",
    "            x, y = cx[1], cy[1]\n",
    "            ax1.annotate(\n",
    "                spg_latex(spg_ref), \n",
    "                xy=(x - 0.5, y + 0.15), \n",
    "                xytext=(x - 0.5, y + 0.15),\n",
    "                rotation = 90,\n",
    "                fontsize=12,\n",
    "                va='bottom',\n",
    "            )\n",
    "        elif abs(cx[0] - cx[1]) <= 3:\n",
    "            if cx[1] in index_ca:\n",
    "                ax1.plot(cx, cy, color='b', marker='s', ls='--')\n",
    "            elif cx[1] in index_sr:\n",
    "                ax1.plot(cx, cy, color='g', marker='o', ls='--')\n",
    "            x, y = cx[0], cy[0]\n",
    "            ax1.annotate(\n",
    "                spg_latex(spg_pred),\n",
    "                xy=(x - 0.5, y - 0.3), \n",
    "                xytext=(x - 0.5, y - 0.3),\n",
    "                rotation = 90,\n",
    "                fontsize=12,\n",
    "            )\n",
    "            x, y = cx[1], cy[1]\n",
    "            ax1.annotate(\n",
    "                spg_latex(spg_ref),\n",
    "                xy=(x - 0.5, y + 0.15), \n",
    "                xytext=(x - 0.5, y + 0.15),\n",
    "                rotation = 90,\n",
    "                fontsize=12,\n",
    "                va='bottom',\n",
    "            )\n",
    "        else:\n",
    "            if cx[1] in index_ca:\n",
    "                ax1.plot(cx, cy, color='b', marker='s', ls=':',lw=0.5)\n",
    "            elif cx[1] in index_sr:\n",
    "                ax1.plot(cx, cy, color='g', marker='o', ls=':',lw=0.5)\n",
    "    else:\n",
    "        if cx[1] in index_ca:\n",
    "            ax1.plot(cx, cy, color='b', marker='s', ls=':',lw=0.5)\n",
    "        elif cx[1] in index_sr:\n",
    "            ax1.plot(cx, cy, color='g', marker='o', ls=':',lw=0.5)\n",
    "ax1.text((Nt+1.5)/2., 0.25, \"prediction\", fontsize=15, ha='center')\n",
    "ax1.text((Nt+1.5)/2. + 3, 1.4, r\"order $\\rightarrow$\", fontsize=15, ha='center')\n",
    "ax1.text((Nt+1.5)/2., 2.55, \"true\", fontsize=15, ha='center')\n",
    "ax1.set_ylim(0,3)\n",
    "ax1.set_xlim(0,Nt+0.5)\n",
    "ax1.axis('off')\n",
    "\n",
    "\n",
    "# # histogram inset\n",
    "# order_diff = np.abs(np.array(order_pred) - np.array(order_true))\n",
    "# ax_i = plt.axes([.565, .54, .32, .38])\n",
    "# ax_i.hist(order_diff, bins=10, color='0.7')\n",
    "# ax_i.set_xlabel(r'|$\\Delta$rank|', fontsize=15)\n",
    "# ax_i.set_ylabel('counts', fontsize=15)\n",
    "# ax_i.yaxis.tick_right()\n",
    "# ax_i.yaxis.set_label_position(\"right\")\n",
    "# ax_i.xaxis.tick_top()\n",
    "# ax_i.xaxis.set_label_position(\"top\")\n",
    "\n",
    "\n",
    "\n",
    "#plt.tight_layout(w_pad=-1)\n",
    "plt.savefig('order_plot.pdf')"
   ]
  },
  {
   "cell_type": "code",
   "execution_count": 91,
   "metadata": {},
   "outputs": [
    {
     "data": {
      "image/png": "[encoded data removed]",
      "text/plain": [
       "<matplotlib.figure.Figure at 0x2aebd4de1c10>"
      ]
     },
     "metadata": {},
     "output_type": "display_data"
    }
   ],
   "source": [
    "N = 150\n",
    "Nt = 15\n",
    "#Nv = len(Er_Ev)\n",
    "#Nva = len(Evp_ref)\n",
    "\n",
    "p_max = max(Er_all[:N])\n",
    "p_min = min(Er_all[:N])\n",
    "y_min = float(p_min - (p_max - p_min) / 10.)\n",
    "y_max = float(p_max + (p_max - p_min) / 10.)\n",
    "\n",
    "fig = plt.figure(figsize=(6.7,6))\n",
    "\n",
    "gs0 = gridspec.GridSpec(2, 1)\n",
    "gs1 = gridspec.GridSpecFromSubplotSpec(1, 2, subplot_spec=gs0[0])\n",
    "gs2 = gridspec.GridSpecFromSubplotSpec(1, 2, subplot_spec=gs0[1])\n",
    "\n",
    "#gs = gridspec.GridSpec(2,2)\n",
    "ax1 = fig.add_subplot(gs1[0, 0])\n",
    "ax_noshow = fig.add_subplot(gs1[0, 1])\n",
    "ax_scatter = fig.add_subplot(gs2[0, 0])\n",
    "ax_order = fig.add_subplot(gs2[0, 1])\n",
    "\n",
    "ax_noshow.axis('off')\n",
    "\n",
    "\n",
    "ax_order.plot(index_ca, Ep_ca, ls='', marker='s', label=r'Sr(AlH$_4$)$_2$')\n",
    "ax_order.plot(index_sr, Ep_sr, ls='', marker='o', label=r'Ca(AlH$_4$)$_2$')\n",
    "ax_order.plot(index_all[:N], Er_all[:N], ls='-', color='k', lw=3, label=r'$\\Delta E^{\\mathrm{true}}$')\n",
    "#ax_order.plot(1000, 1000, color='r', marker='^', label=r'$E_v^{\\mathrm{AlGaAs}}$', ls='')\n",
    "#ax_order.plot(1000, 1000, color='m', marker='v', label=r'$E_v^{\\mathrm{AlGaP}}$', ls='')\n",
    "ax_order.set_xlabel('crystal ID', fontsize=15)\n",
    "ax_order.set_ylabel('$\\Delta E$ [eV/$\\mathrm{H}_2$]', fontsize=15)\n",
    "ax_order.yaxis.tick_right()\n",
    "ax_order.yaxis.set_label_position(\"right\")\n",
    "# ax_order.xaxis.tick_top()\n",
    "# ax_order.xaxis.set_label_position(\"top\")\n",
    "ax_order.set_xlim([1, N+3])\n",
    "ax_order.set_ylim([y_min, y_max])\n",
    "ax_order.set_zorder(100)\n",
    "ax_order.set_aspect(float(N)/(y_max - y_min))\n",
    "\n",
    "ax_scatter.plot(Ep_ca[:N], Er_ca[:N], ls='', marker='s')\n",
    "ax_scatter.plot(Ep_sr[:N], Er_sr[:N], ls='', marker='o')\n",
    "ax_scatter.plot([y_min, y_max], [y_min, y_max], color='k', ls='--', lw=2)\n",
    "ax_scatter.set_aspect('equal')\n",
    "ax_scatter.set_xlim(y_min, y_max)\n",
    "ax_scatter.set_ylim(y_min, y_max)\n",
    "# ax_scatter.xaxis.tick_top()\n",
    "# ax_scatter.xaxis.set_label_position(\"top\")\n",
    "ax_scatter.set_ylabel('$\\Delta E^{\\mathrm{true}}$ [eV/$\\mathrm{H}_2$]', fontsize=15)\n",
    "ax_scatter.set_xlabel('$\\Delta E^{\\mathrm{pred}}$ [eV/$\\mathrm{H}_2$]', fontsize=15)\n",
    "\n",
    "\n",
    "order_true = index_all\n",
    "order_pred = (np.argsort(Ep_all)+1).tolist()\n",
    "conn_x_list = zip(order_pred, order_true)\n",
    "conn_y_list = zip([2 for _ in index_all], [1 for _ in index_all])\n",
    "for i in range(len(conn_x_list)):\n",
    "    spg_ref = get_symmetry(i, ref_all)\n",
    "    spg_pred = get_symmetry(i, pred_all)\n",
    "    cx = conn_x_list[i]\n",
    "    cy = conn_y_list[i]\n",
    "    if cx[0] < Nt and cx[1] < Nt:\n",
    "        if abs(cx[0] - cx[1]) <= 5:\n",
    "            if cx[1] in index_ca:\n",
    "                ax1.plot(cy, cx, color='b', marker='s')\n",
    "            elif cx[1] in index_sr:\n",
    "                ax1.plot(cy, cx, color='g', marker='o')\n",
    "            x, y = cx[0], cy[0]\n",
    "            ax1.annotate(\n",
    "                '(%d) ' % conn_x_list[i][0] + spg_latex(spg_pred), \n",
    "                xy=(y + 0.1, x+0.3), \n",
    "                xytext=( y + 0.1, x+0.3),\n",
    "                #rotation = 90,\n",
    "                fontsize=12,\n",
    "            )\n",
    "            x, y = cx[1], cy[1]\n",
    "            ax1.annotate(\n",
    "                spg_latex(spg_ref) + ' (%d)' % conn_x_list[i][1], \n",
    "                xy=(y - 0.1, x+0.3), \n",
    "                xytext=(y - 0.1, x+0.3),\n",
    "                #rotation = 90,\n",
    "                fontsize=12,\n",
    "                ha='right',\n",
    "            )\n",
    "        elif abs(cx[0] - cx[1]) <= 10:\n",
    "            if cx[1] in index_ca:\n",
    "                ax1.plot(cy, cx, color='b', marker='s', ls='--')\n",
    "            elif cx[1] in index_sr:\n",
    "                ax1.plot(cy, cx, color='g', marker='o', ls='--')\n",
    "            x, y = cx[0], cy[0]\n",
    "            ax1.annotate(\n",
    "                '(%d) ' % conn_x_list[i][0] + spg_latex(spg_pred),\n",
    "                xy=(y + 0.1, x+0.3), \n",
    "                xytext=(y + 0.1, x+0.3),\n",
    "                #rotation = 90,\n",
    "                fontsize=12,\n",
    "            )\n",
    "            x, y = cx[1], cy[1]\n",
    "            ax1.annotate(\n",
    "                spg_latex(spg_ref) + ' (%d)' % conn_x_list[i][1],\n",
    "                xy=(y - 0.1, x+0.3), \n",
    "                xytext=(y - 0.1, x+0.3),\n",
    "                #rotation = 90,\n",
    "                fontsize=12,\n",
    "                ha='right',\n",
    "            )\n",
    "        else:\n",
    "            if cx[1] in index_ca:\n",
    "                ax1.plot(cy, cx, color='b', marker='s', ls=':',lw=0.5)\n",
    "            elif cx[1] in index_sr:\n",
    "                ax1.plot(cy, cx, color='g', marker='o', ls=':',lw=0.5)\n",
    "    else:\n",
    "        if cx[1] in index_ca:\n",
    "            ax1.plot(cy, cx, color='b', marker='s', ls=':',lw=0.5)\n",
    "        elif cx[1] in index_sr:\n",
    "            ax1.plot(cy, cx, color='g', marker='o', ls=':',lw=0.5)\n",
    "ax1.text(-0.1, (Nt+1.5)/2.-3, \"prediction\", rotation = 90, fontsize=15, ha='center')\n",
    "#ax1.text(1.4, (Nt+1.5)/4. + 3, r\"order $\\rightarrow$\", rotation = -90, fontsize=15, ha='center')\n",
    "ax1.text(3.1, (Nt+1.5)/2.-1, \"true\", rotation = 90, fontsize=15, ha='center')\n",
    "ax1.set_xlim(0,3)\n",
    "ax1.set_ylim(Nt+0.5,0)\n",
    "ax1.axis('off')\n",
    "ax1.fill_betweenx([0,3], 15.5, 32, color='w', zorder=100)\n",
    "\n",
    "\n",
    "# histogram inset\n",
    "order_diff = np.abs(np.array(order_pred) - np.array(order_true))\n",
    "ax_i = plt.axes([.54, .57, .358, .34])\n",
    "hist_data = np.stack([order_diff[np.array(index_ca)-1], order_diff[np.array(index_sr) - 1]]).T\n",
    "ax_i.hist(hist_data, bins=8, color=['g', 'b'], stacked=True)\n",
    "ax_i.set_xlabel(r'|$\\Delta$rank|', fontsize=15)\n",
    "ax_i.set_ylabel('crystal counts', fontsize=15)\n",
    "ax_i.yaxis.tick_right()\n",
    "ax_i.yaxis.set_label_position(\"right\")\n",
    "ax_i.xaxis.tick_top()\n",
    "ax_i.xaxis.set_label_position(\"top\")\n",
    "\n",
    "ax_order.legend(loc=(-0.4, 0.28), numpoints=1)\n",
    "\n",
    "\n",
    "plt.tight_layout(w_pad=-1)\n",
    "plt.savefig('order_plot.pdf')"
   ]
  },
  {
   "cell_type": "code",
   "execution_count": 87,
   "metadata": {},
   "outputs": [
    {
     "data": {
      "text/plain": [
       "(86, 2)"
      ]
     },
     "execution_count": 87,
     "metadata": {},
     "output_type": "execute_result"
    }
   ],
   "source": [
    "np.stack([order_diff[np.array(index_ca)-1], order_diff[np.array(index_sr) - 1]]).T.shape"
   ]
  },
  {
   "cell_type": "markdown",
   "metadata": {},
   "source": [
    "# Analysis"
   ]
  },
  {
   "cell_type": "code",
   "execution_count": 103,
   "metadata": {},
   "outputs": [
    {
     "name": "stdout",
     "output_type": "stream",
     "text": [
      "(0.96141873753108609, 0.11806596251988263, 0.083227114301860194)\n"
     ]
    }
   ],
   "source": [
    "E_fit = qtk.ML.l2_fit(Ep_all, Er_all)\n",
    "print qtk.ML.error_measure(Er_all, E_fit)"
   ]
  },
  {
   "cell_type": "code",
   "execution_count": null,
   "metadata": {
    "collapsed": true
   },
   "outputs": [],
   "source": [
    "print qtk.ML.error_measure"
   ]
  },
  {
   "cell_type": "code",
   "execution_count": 99,
   "metadata": {},
   "outputs": [
    {
     "data": {
      "text/plain": [
       "0.6453488372093024"
      ]
     },
     "execution_count": 99,
     "metadata": {},
     "output_type": "execute_result"
    }
   ],
   "source": [
    "len(order_diff[order_diff < 10]) / float(len(order_diff))\n"
   ]
  },
  {
   "cell_type": "code",
   "execution_count": 13,
   "metadata": {},
   "outputs": [
    {
     "data": {
      "text/plain": [
       "[<matplotlib.lines.Line2D at 0x2aebd8e6f710>]"
      ]
     },
     "execution_count": 13,
     "metadata": {},
     "output_type": "execute_result"
    },
    {
     "data": {
      "image/png": "[encoded data removed]",
      "text/plain": [
       "<matplotlib.figure.Figure at 0x2aebd51689d0>"
      ]
     },
     "metadata": {},
     "output_type": "display_data"
    }
   ],
   "source": [
    "Ns = 10\n",
    "plt.plot(index_ca[:Ns], Ep_ca[:Ns], ls='', marker='o')\n",
    "plt.plot(index_sr[:Ns], Ep_sr[:Ns], ls='', marker='s')\n",
    "plt.plot(index_all[:2*Ns+10], Er_all[:2*Ns+10], ls='', marker='.')\n",
    "plt.plot(index_all[:2*Ns+10], Ep_all[:2*Ns+10], ls='', marker='.')\n",
    "\n"
   ]
  },
  {
   "cell_type": "code",
   "execution_count": 14,
   "metadata": {},
   "outputs": [
    {
     "name": "stdout",
     "output_type": "stream",
     "text": [
      "9.63953488372 9.45357418652\n"
     ]
    },
    {
     "data": {
      "image/png": "[encoded data removed]",
      "text/plain": [
       "<matplotlib.figure.Figure at 0x2aebd4f1ae10>"
      ]
     },
     "metadata": {},
     "output_type": "display_data"
    }
   ],
   "source": [
    "order_diff = np.abs(np.array(order_pred) - np.array(order_true))\n",
    "plt.plot(order_true, order_diff.cumsum())\n",
    "print order_diff.mean(), order_diff.std()"
   ]
  },
  {
   "cell_type": "code",
   "execution_count": 15,
   "metadata": {},
   "outputs": [
    {
     "data": {
      "text/plain": [
       "[<matplotlib.lines.Line2D at 0x2aebd8ef3b90>]"
      ]
     },
     "execution_count": 15,
     "metadata": {},
     "output_type": "execute_result"
    },
    {
     "data": {
      "image/png": "[encoded data removed]",
      "text/plain": [
       "<matplotlib.figure.Figure at 0x2aebd8805a10>"
      ]
     },
     "metadata": {},
     "output_type": "display_data"
    }
   ],
   "source": [
    "plt.plot(order_diff)"
   ]
  },
  {
   "cell_type": "code",
   "execution_count": 16,
   "metadata": {},
   "outputs": [
    {
     "data": {
      "text/plain": [
       "(array([ 62.,  32.,  21.,  13.,   9.,  11.,  14.,   4.,   4.,   2.]),\n",
       " array([  0. ,   3.8,   7.6,  11.4,  15.2,  19. ,  22.8,  26.6,  30.4,\n",
       "         34.2,  38. ]),\n",
       " <a list of 10 Patch objects>)"
      ]
     },
     "execution_count": 16,
     "metadata": {},
     "output_type": "execute_result"
    },
    {
     "data": {
      "image/png": "[encoded data removed]",
      "text/plain": [
       "<matplotlib.figure.Figure at 0x2aebd8785b10>"
      ]
     },
     "metadata": {},
     "output_type": "display_data"
    }
   ],
   "source": [
    "plt.hist(order_diff, bins=10)"
   ]
  },
  {
   "cell_type": "code",
   "execution_count": 49,
   "metadata": {
    "collapsed": true
   },
   "outputs": [],
   "source": [
    "def normal(*args):\n",
    "    return np.random.normal(loc=order_diff.mean(), scale=order_diff.std())"
   ]
  },
  {
   "cell_type": "code",
   "execution_count": 68,
   "metadata": {},
   "outputs": [
    {
     "data": {
      "text/plain": [
       "KstestResult(statistic=7.237498423589785, pvalue=nan)"
      ]
     },
     "execution_count": 68,
     "metadata": {},
     "output_type": "execute_result"
    }
   ],
   "source": [
    "np.random.normal\n",
    "sp.stats.kstest(order_diff, normal)"
   ]
  },
  {
   "cell_type": "code",
   "execution_count": 14,
   "metadata": {},
   "outputs": [
    {
     "data": {
      "text/plain": [
       "qctoolkit.QM.qmcode.abinit.out"
      ]
     },
     "execution_count": 14,
     "metadata": {},
     "output_type": "execute_result"
    }
   ],
   "source": [
    "type(ref_raw[0])"
   ]
  },
  {
   "cell_type": "code",
   "execution_count": 15,
   "metadata": {},
   "outputs": [
    {
     "data": {
      "text/plain": [
       "(0, 20)"
      ]
     },
     "execution_count": 15,
     "metadata": {},
     "output_type": "execute_result"
    },
    {
     "data": {
      "image/png": "[encoded data removed]",
      "text/plain": [
       "<matplotlib.figure.Figure at 0x2af63b9464d0>"
      ]
     },
     "metadata": {},
     "output_type": "display_data"
    }
   ],
   "source": [
    "Nt = 170\n",
    "order_true = index_all[:Nt]\n",
    "order_pred = (np.argsort(Ep_all)[:Nt]+1).tolist()\n",
    "conn_x_list = zip(order_true, order_pred)\n",
    "conn_y_list = zip([1 for _ in range(Nt)], [2 for _ in range(Nt)])\n",
    "for i in range(Nt):\n",
    "    cx = conn_x_list[i]\n",
    "    cy = conn_y_list[i]\n",
    "    if abs(cx[0] - cx[1]) <= 1:\n",
    "        plt.plot(cx, cy, color='k', marker='o', lw=2)\n",
    "    elif abs(cx[0] - cx[1]) <= 3:\n",
    "        plt.plot(cx, cy, color='b', marker='s')\n",
    "    else:\n",
    "        plt.plot(cx, cy, color='r', marker='x', ls=':')\n",
    "plt.ylim(0,3)\n",
    "plt.xlim(0,20)"
   ]
  },
  {
   "cell_type": "code",
   "execution_count": 16,
   "metadata": {},
   "outputs": [
    {
     "name": "stdout",
     "output_type": "stream",
     "text": [
      "[1, 2, 3, 4, 5, 6, 7, 8, 9, 10]\n",
      "[1, 2, 3, 4, 7, 15, 6, 9, 27, 19]\n"
     ]
    }
   ],
   "source": [
    "print order_true[:10]\n",
    "print order_pred[:10]"
   ]
  },
  {
   "cell_type": "code",
   "execution_count": 17,
   "metadata": {},
   "outputs": [
    {
     "data": {
      "text/plain": [
       "'Ca_p_04-Ca.out'"
      ]
     },
     "execution_count": 17,
     "metadata": {},
     "output_type": "execute_result"
    }
   ],
   "source": [
    "ref_ca[3].name"
   ]
  },
  {
   "cell_type": "code",
   "execution_count": 18,
   "metadata": {},
   "outputs": [
    {
     "data": {
      "text/plain": [
       "[<matplotlib.lines.Line2D at 0x2af640073450>]"
      ]
     },
     "execution_count": 18,
     "metadata": {},
     "output_type": "execute_result"
    },
    {
     "data": {
      "image/png": "[encoded data removed]",
      "text/plain": [
       "<matplotlib.figure.Figure at 0x2af63bae8f50>"
      ]
     },
     "metadata": {},
     "output_type": "display_data"
    }
   ],
   "source": [
    "plt.plot(sorted([o.Et for o in pred_ca[:10]]))"
   ]
  },
  {
   "cell_type": "markdown",
   "metadata": {
    "collapsed": true
   },
   "source": [
    "# Correlation score"
   ]
  },
  {
   "cell_type": "code",
   "execution_count": 13,
   "metadata": {},
   "outputs": [
    {
     "data": {
      "text/plain": [
       "[<matplotlib.lines.Line2D at 0x2af3478a5a90>]"
      ]
     },
     "execution_count": 13,
     "metadata": {},
     "output_type": "execute_result"
    },
    {
     "data": {
      "image/png": "[encoded data removed]",
      "text/plain": [
       "<matplotlib.figure.Figure at 0x2af3478a5dd0>"
      ]
     },
     "metadata": {},
     "output_type": "display_data"
    }
   ],
   "source": [
    "plt.plot(Ep_ca[:N], Er_ca[:N], ls='', marker='s')\n",
    "plt.plot(Ep_sr[:N], Er_sr[:N], ls='', marker='o')"
   ]
  },
  {
   "cell_type": "code",
   "execution_count": 35,
   "metadata": {
    "scrolled": true
   },
   "outputs": [
    {
     "data": {
      "text/plain": [
       "(0.99985564028778662, 8.3933351729878687e-303)"
      ]
     },
     "execution_count": 35,
     "metadata": {},
     "output_type": "execute_result"
    },
    {
     "data": {
      "image/png": "[encoded data removed]",
      "text/plain": [
       "<matplotlib.figure.Figure at 0x2af34874f550>"
      ]
     },
     "metadata": {},
     "output_type": "display_data"
    }
   ],
   "source": [
    "N = 200\n",
    "x, y = Ep_all[:N], Er_all[:N]\n",
    "plt.plot(x, y, ls='', marker='o')\n",
    "\n",
    "sp.stats.pearsonr(x, y)"
   ]
  },
  {
   "cell_type": "code",
   "execution_count": 49,
   "metadata": {},
   "outputs": [
    {
     "name": "stdout",
     "output_type": "stream",
     "text": [
      "PointbiserialrResult(correlation=0.99985564028778662, pvalue=8.3933351729878687e-303)\n",
      "Ks_2sampResult(statistic=0.058139534883720978, pvalue=0.92596458721149089)\n",
      "KendalltauResult(correlation=0.85209998348882954, pvalue=8.2357842221166648e-62)\n",
      "WeightedTauResult(correlation=0.94841200044178264, pvalue=nan)\n",
      "RanksumsResult(statistic=0.16373049540033416, pvalue=0.86994330964235966)\n",
      "AnsariResult(statistic=14784.0, pvalue=0.83846836401848512)\n",
      "(0.45938982732920575, 0.64595425203866597)\n",
      "BinnedStatisticResult(statistic=array([  0.64851084,   7.86016863,  14.22990279,          nan,\n",
      "                nan,          nan,          nan,          nan,\n",
      "                nan,  63.24625994]), bin_edges=array([  0.        ,   6.54898764,  13.09797529,  19.64696293,\n",
      "        26.19595057,  32.74493822,  39.29392586,  45.8429135 ,\n",
      "        52.39190115,  58.94088879,  65.48987643]), binnumber=array([ 1,  1,  1,  1,  1,  1,  1,  1,  1,  1,  1,  1,  1,  1,  1,  1,  1,\n",
      "        1,  1,  1,  1,  1,  1,  1,  1,  1,  1,  1,  1,  1,  1,  1,  1,  1,\n",
      "        1,  1,  1,  1,  1,  1,  1,  1,  1,  1,  1,  1,  1,  1,  1,  1,  1,\n",
      "        1,  1,  1,  1,  1,  1,  1,  1,  1,  1,  1,  1,  1,  1,  1,  1,  1,\n",
      "        1,  1,  1,  1,  1,  1,  1,  1,  1,  1,  1,  1,  1,  1,  1,  1,  1,\n",
      "        1,  1,  1,  1,  1,  1,  1,  1,  1,  1,  1,  1,  1,  1,  1,  1,  1,\n",
      "        1,  1,  1,  1,  1,  1,  1,  1,  1,  1,  1,  1,  1,  1,  1,  1,  1,\n",
      "        1,  1,  1,  1,  1,  1,  1,  1,  1,  1,  1,  1,  1,  1,  1,  1,  1,\n",
      "        1,  1,  1,  1,  1,  1,  1,  1,  1,  1,  1,  1,  1,  1,  1,  1,  1,\n",
      "        1,  1,  1,  1,  1,  1,  1,  1,  1,  1,  1,  1,  2,  2,  2,  3,  3,\n",
      "       10, 10]))\n"
     ]
    }
   ],
   "source": [
    "print sp.stats.pointbiserialr(x, y)\n",
    "\n",
    "print sp.stats.ks_2samp(x, y)\n",
    "\n",
    "print sp.stats.kendalltau(x, y)\n",
    "\n",
    "print sp.stats.weightedtau(x,y)\n",
    "\n",
    "print sp.stats.ranksums(x, y)\n",
    "\n",
    "print sp.stats.ansari(x, y)\n",
    "\n",
    "print sp.stats.mood(x, y)\n",
    "\n",
    "print sp.stats.binned_statistic(x, y)"
   ]
  },
  {
   "cell_type": "code",
   "execution_count": 48,
   "metadata": {},
   "outputs": [
    {
     "data": {
      "text/plain": [
       "BinnedStatisticResult(statistic=array([  0.64851084,   7.86016863,  14.22990279,          nan,\n",
       "                nan,          nan,          nan,          nan,\n",
       "                nan,  63.24625994]), bin_edges=array([  0.        ,   6.54898764,  13.09797529,  19.64696293,\n",
       "        26.19595057,  32.74493822,  39.29392586,  45.8429135 ,\n",
       "        52.39190115,  58.94088879,  65.48987643]), binnumber=array([ 1,  1,  1,  1,  1,  1,  1,  1,  1,  1,  1,  1,  1,  1,  1,  1,  1,\n",
       "        1,  1,  1,  1,  1,  1,  1,  1,  1,  1,  1,  1,  1,  1,  1,  1,  1,\n",
       "        1,  1,  1,  1,  1,  1,  1,  1,  1,  1,  1,  1,  1,  1,  1,  1,  1,\n",
       "        1,  1,  1,  1,  1,  1,  1,  1,  1,  1,  1,  1,  1,  1,  1,  1,  1,\n",
       "        1,  1,  1,  1,  1,  1,  1,  1,  1,  1,  1,  1,  1,  1,  1,  1,  1,\n",
       "        1,  1,  1,  1,  1,  1,  1,  1,  1,  1,  1,  1,  1,  1,  1,  1,  1,\n",
       "        1,  1,  1,  1,  1,  1,  1,  1,  1,  1,  1,  1,  1,  1,  1,  1,  1,\n",
       "        1,  1,  1,  1,  1,  1,  1,  1,  1,  1,  1,  1,  1,  1,  1,  1,  1,\n",
       "        1,  1,  1,  1,  1,  1,  1,  1,  1,  1,  1,  1,  1,  1,  1,  1,  1,\n",
       "        1,  1,  1,  1,  1,  1,  1,  1,  1,  1,  1,  1,  2,  2,  2,  3,  3,\n",
       "       10, 10]))"
      ]
     },
     "execution_count": 48,
     "metadata": {},
     "output_type": "execute_result"
    }
   ],
   "source": []
  },
  {
   "cell_type": "code",
   "execution_count": null,
   "metadata": {
    "collapsed": true
   },
   "outputs": [],
   "source": []
  }
 ],
 "metadata": {
  "anaconda-cloud": {},
  "kernelspec": {
   "display_name": "Python 2",
   "language": "python",
   "name": "python2"
  },
  "language_info": {
   "codemirror_mode": {
    "name": "ipython",
    "version": 2
   },
   "file_extension": ".py",
   "mimetype": "text/x-python",
   "name": "python",
   "nbconvert_exporter": "python",
   "pygments_lexer": "ipython2",
   "version": "2.7.13"
  }
 },
 "nbformat": 4,
 "nbformat_minor": 1
}
