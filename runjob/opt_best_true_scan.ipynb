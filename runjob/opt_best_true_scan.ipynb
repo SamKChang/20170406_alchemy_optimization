{
 "cells": [
  {
   "cell_type": "code",
   "execution_count": 1,
   "metadata": {
    "collapsed": false,
    "deletable": true,
    "editable": true
   },
   "outputs": [
    {
     "name": "stdout",
     "output_type": "stream",
     "text": [
      "\u001b[93mmissing file: bigdft\u001b[0m\n",
      "\u001b[93mmissing file: bigdft-tool\u001b[0m\n",
      "\u001b[93mmissing file: cpmd2upf.x\u001b[0m\n",
      "\u001b[93mmissing file: mov2asc\u001b[0m\n",
      "\u001b[93mmissing file: vasp\u001b[0m\n",
      "\u001b[93mmissing file: /home/samio/Works/PhD/packages/VASP/PP\u001b[0m\n",
      "\u001b[93mplease modify /path/to/qctoolkit/setting.py and recompile.\u001b[0m\n"
     ]
    }
   ],
   "source": [
    "import qctoolkit as qtk\n",
    "import numpy as np\n",
    "import ast"
   ]
  },
  {
   "cell_type": "code",
   "execution_count": 2,
   "metadata": {
    "collapsed": false,
    "deletable": true,
    "editable": true
   },
   "outputs": [
    {
     "name": "stdout",
     "output_type": "stream",
     "text": [
      "\u001b[96m\u001b[1mDB:\u001b[0m loading existing database: optimization/algaas_444.db \n",
      " ===== CCS REPORT ===== \n",
      "\u001b[96m\u001b[1mgenerating molecule:\u001b[0m gaas_ref \n",
      "\u001b[96m\u001b[1mccs parameter file:\u001b[0m ccs.yml \n",
      "\u001b[96m\u001b[1mmutation indices:\u001b[0m [[0, 2, 4, 6, 8, 10, 12, 14, 16, 18, 20, 22, 24, 26, 28, 30, 32, 34, 36, 38, 40, 42, 44, 46, 48, 50, 52, 54, 56, 58, 60, 62, 64, 66, 68, 70, 72, 74, 76, 78, 80, 82, 84, 86, 88, 90, 92, 94, 96, 98, 100, 102, 104, 106, 108, 110, 112, 114, 116, 118, 120, 122, 124, 126]] \n",
      "\u001b[96m\u001b[1mtarget atomic numbers:\u001b[0m [[13, 31]] \n",
      "\u001b[96m\u001b[1mlength of mutation vector:\u001b[0m 64 <=> [64] \n",
      "\u001b[94mccs coordinate:\u001b[0m ['m', 'm', 'm', 'm', 'm', 'm', 'm', 'm', 'm', 'm', 'm', 'm', 'm', 'm', 'm', 'm', 'm', 'm', 'm', 'm', 'm', 'm', 'm', 'm', 'm', 'm', 'm', 'm', 'm', 'm', 'm', 'm', 'm', 'm', 'm', 'm', 'm', 'm', 'm', 'm', 'm', 'm', 'm', 'm', 'm', 'm', 'm', 'm', 'm', 'm', 'm', 'm', 'm', 'm', 'm', 'm', 'm', 'm', 'm', 'm', 'm', 'm', 'm', 'm'] \n",
      " ========= END ======== \n"
     ]
    }
   ],
   "source": [
    "log = qtk.Logger('optimization/algaas_444.db')\n",
    "mol_base = qtk.Molecule('xyz/gaas_2.xyz')\n",
    "mol_base.extend([4,4,4])\n",
    "mol_base.name = 'gaas_ref'\n",
    "ccs = qtk.CCS(mol_base, 'ccs.yml')"
   ]
  },
  {
   "cell_type": "code",
   "execution_count": 3,
   "metadata": {
    "collapsed": false,
    "deletable": true,
    "editable": true
   },
   "outputs": [
    {
     "name": "stdout",
     "output_type": "stream",
     "text": [
      "[alchemy-ar_0403015759_477, alchemy-c_0403131305_976, alchemy-ar_0402051230_252, alchemy-s_0404003237_128, alchemy-cl_0403081953_362, alchemy-na_0402213639_476, alchemy-ar_0401043453_226, alchemy-p_0403165256_990, alchemy-o_0403114807_666, alchemy-f_0403150328_609, alchemy-ar_0402104534_875, alchemy-ar_0403143704_627, alchemy-b_0403201621_994, alchemy-f_0403124425_459, alchemy-ar_0402015739_252, alchemy-cl_0403102512_203, alchemy-ar_0402075722_873, alchemy-li_0402020439_310, alchemy-be_0403114432_270, alchemy-ar_0401135641_443]\n"
     ]
    }
   ],
   "source": [
    "entries = log.list(has_data=True, order='descent')[:20]\n",
    "mols = []\n",
    "for e in entries:\n",
    "    try:\n",
    "        name = e.comment.split(\"'\")[1]\n",
    "    except:\n",
    "        name = e.comment\n",
    "    coord = ast.literal_eval(e.content)\n",
    "    mol = ccs.generate(**coord)\n",
    "    mol.name = name\n",
    "    mols.append(mol)\n",
    "print mols"
   ]
  },
  {
   "cell_type": "code",
   "execution_count": 4,
   "metadata": {
    "collapsed": false,
    "deletable": true,
    "editable": true
   },
   "outputs": [],
   "source": [
    "qmsetting = {\n",
    "    'program': 'abinit',\n",
    "    #'cutoff': 10,\n",
    "    'kmesh': [3, 3, 3],\n",
    "    'cutoff': 50,\n",
    "    #'kmesh': [6,6,6],\n",
    "    'band_scan': [\n",
    "     [20, 20],\n",
    "     [[2.0, 0.0, 1.0], # L\n",
    "      [0.0, 0.0, 0.0],   # Gamma\n",
    "      [0.0, 2.0, 2.0],   # X\n",
    "     ]],\n",
    "    'threads': 4,\n",
    "    'overwrite': True,\n",
    "    'ks_states': 24,\n",
    "    'save_restart': True,\n",
    "    'save_density': True,\n",
    "    'abinit_setting': ['chkprim 0'],\n",
    "}"
   ]
  },
  {
   "cell_type": "code",
   "execution_count": 5,
   "metadata": {
    "collapsed": false,
    "deletable": true,
    "editable": true
   },
   "outputs": [
    {
     "name": "stdout",
     "output_type": "stream",
     "text": [
      "[alchemy-ar_0403015759_477: abinit, alchemy-c_0403131305_976: abinit, alchemy-ar_0402051230_252: abinit, alchemy-s_0404003237_128: abinit, alchemy-cl_0403081953_362: abinit, alchemy-na_0402213639_476: abinit, alchemy-ar_0401043453_226: abinit, alchemy-p_0403165256_990: abinit, alchemy-o_0403114807_666: abinit, alchemy-f_0403150328_609: abinit, alchemy-ar_0402104534_875: abinit, alchemy-ar_0403143704_627: abinit, alchemy-b_0403201621_994: abinit, alchemy-f_0403124425_459: abinit, alchemy-ar_0402015739_252: abinit, alchemy-cl_0403102512_203: abinit, alchemy-ar_0402075722_873: abinit, alchemy-li_0402020439_310: abinit, alchemy-be_0403114432_270: abinit, alchemy-ar_0401135641_443: abinit]\n"
     ]
    }
   ],
   "source": [
    "inps = [qtk.QMInp(m, **qmsetting) for m in mols]\n",
    "print inps"
   ]
  },
  {
   "cell_type": "code",
   "execution_count": 6,
   "metadata": {
    "collapsed": false,
    "deletable": true,
    "editable": true
   },
   "outputs": [],
   "source": [
    "#qtk.qmWriteAll(inps, 'true')"
   ]
  }
 ],
 "metadata": {
  "kernelspec": {
   "display_name": "Python 2",
   "language": "python",
   "name": "python2"
  },
  "language_info": {
   "codemirror_mode": {
    "name": "ipython",
    "version": 2
   },
   "file_extension": ".py",
   "mimetype": "text/x-python",
   "name": "python",
   "nbconvert_exporter": "python",
   "pygments_lexer": "ipython2",
   "version": "2.7.13"
  }
 },
 "nbformat": 4,
 "nbformat_minor": 2
}
