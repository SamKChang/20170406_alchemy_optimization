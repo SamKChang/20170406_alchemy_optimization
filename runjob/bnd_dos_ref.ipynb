{
 "cells": [
  {
   "cell_type": "code",
   "execution_count": 1,
   "metadata": {
    "collapsed": false,
    "deletable": true,
    "editable": true
   },
   "outputs": [
    {
     "name": "stderr",
     "output_type": "stream",
     "text": [
      "/home/samio/.local/lib/python2.7/site-packages/sklearn/cross_validation.py:44: DeprecationWarning: This module was deprecated in version 0.18 in favor of the model_selection module into which all the refactored classes and functions are moved. Also note that the interface of the new CV iterators are different from that of this module. This module will be removed in 0.20.\n",
      "  \"This module will be removed in 0.20.\", DeprecationWarning)\n"
     ]
    }
   ],
   "source": [
    "import qctoolkit as qtk\n",
    "import numpy as np\n",
    "import glob\n",
    "import os, re\n",
    "import copy"
   ]
  },
  {
   "cell_type": "code",
   "execution_count": 2,
   "metadata": {
    "collapsed": true,
    "deletable": true,
    "editable": true
   },
   "outputs": [],
   "source": [
    "cyl_map = {\n",
    "    'si': [\n",
    "        ['si', 5.431, [14, 14]],\n",
    "        ['c', 3.566, [6, 6]],\n",
    "        ['sic', 4.3596, [14, 6]],\n",
    "        ['cge', 5.574, [6, 32]],\n",
    "        ['ge', 5.658, [32, 32]],\n",
    "        ['sige', 5.432, [14, 32]],\n",
    "        ['sn', 6.4892, [50, 50]],\n",
    "        ['snsi', 5.961, [14, 50]],\n",
    "        ['gesn', 6.0758, [32, 50]],\n",
    "    ],\n",
    "    'gaas': [\n",
    "        ['gaas', 5.6535, [31, 33]],\n",
    "        ['alp', 5.4635, [13, 15]],\n",
    "        ['alas', 5.660, [13, 33]],\n",
    "        ['alsb', 6.1355, [13, 51]],\n",
    "        ['gap', 5.451, [31, 15]],\n",
    "        ['gasb', 6.09, [31, 51]],\n",
    "        ['inp', 5.86, [49, 15]],\n",
    "        ['inas', 6.05, [49, 33]],\n",
    "        ['insb', 6.47, [49, 51]],\n",
    "    ],\n",
    "    'cdse': [\n",
    "        ['cdse', 6.08, [48, 34]],\n",
    "        ['zns', 5.41, [30, 16]],\n",
    "        ['znse', 5.67, [30, 34]],\n",
    "        ['znte', 6.1, [30, 52]],\n",
    "        ['cds', 5.82, [48,16]],\n",
    "        ['cdte', 6.48, [48, 52]],\n",
    "        ['hgs', 5.8517, [80, 16]],\n",
    "        ['hgse', 6.085, [80, 34]],\n",
    "        ['hgte', 6.453, [80, 52]],\n",
    "    ]\n",
    "}"
   ]
  },
  {
   "cell_type": "markdown",
   "metadata": {
    "deletable": true,
    "editable": true
   },
   "source": [
    "# plain GGA, where insuite restart is possible"
   ]
  },
  {
   "cell_type": "code",
   "execution_count": 3,
   "metadata": {
    "collapsed": true,
    "deletable": true,
    "editable": true
   },
   "outputs": [],
   "source": [
    "# single setting dict for insuit restart calculations\n",
    "qmsetting = {\n",
    "    'program': 'abinit',\n",
    "    'kmesh': [6,6,6],\n",
    "    'ks_states': 10,\n",
    "    'band_scan': [\n",
    "     [17, 17, 8, 10, 15],\n",
    "     [[0.25, 0.75, 0.5], # W\n",
    "      [0.0, 0.0, 0.0],   # Gamma\n",
    "      [0.0, 0.5, 0.5],   # X\n",
    "      [0.25, 0.75, 0.5], # L\n",
    "      [0.5, 0.5, 0.5],   # W\n",
    "      [0.0, 0.0, 0.0],   # Gamma\n",
    "     ]],\n",
    "    'save_restart': True,\n",
    "    'save_density': True,\n",
    "    'link_dep': True,\n",
    "    'threads': 1,\n",
    "    'dos_mesh': [12, 12, 12],\n",
    "    'smearing': 'gaussian',\n",
    "}"
   ]
  },
  {
   "cell_type": "code",
   "execution_count": 4,
   "metadata": {
    "collapsed": false,
    "deletable": true,
    "editable": true
   },
   "outputs": [],
   "source": [
    "# construct crystals based on cyl_map and si, gaas, cdse crystals\n",
    "\n",
    "mol_base = []\n",
    "#for cyl in ['si', 'gaas', 'cdse']:\n",
    "for cyl in ['si', 'gaas']:\n",
    "    name = 'xyz/%s.xyz' % cyl\n",
    "    mol_base.append(qtk.Molecule(name))\n",
    "mol_base\n",
    "\n",
    "mols_grp = []\n",
    "for mol in mol_base:\n",
    "    for info_mol in cyl_map[mol.name]:\n",
    "        mol_grp = []\n",
    "        for info_a in cyl_map[mol.name]:\n",
    "            new = mol.copy()\n",
    "            new.name = info_mol[0] + '_a-' + info_a[0]\n",
    "            new.setCelldm([info_a[1], info_a[1], info_a[1], 0, 0, 0])\n",
    "            for i in range(new.N):\n",
    "                if new.Z[i] != info_mol[2][i]:\n",
    "                    new.setAtoms(i, Z=info_mol[2][i])\n",
    "            mol_grp.append(new)\n",
    "        mols_grp.append(mol_grp)\n",
    "    \n",
    "mols_all = list(qtk.flatten(mols_grp))\n",
    "inps_ref = [qtk.QMInp(mol, **qmsetting) for mol in mols_all]"
   ]
  },
  {
   "cell_type": "code",
   "execution_count": 5,
   "metadata": {
    "collapsed": false,
    "deletable": true,
    "editable": true
   },
   "outputs": [
    {
     "data": {
      "text/plain": [
       "[si_a-si: abinit,\n",
       " si_a-c: abinit,\n",
       " si_a-sic: abinit,\n",
       " si_a-cge: abinit,\n",
       " si_a-ge: abinit,\n",
       " si_a-sige: abinit,\n",
       " si_a-sn: abinit,\n",
       " si_a-snsi: abinit,\n",
       " si_a-gesn: abinit,\n",
       " c_a-si: abinit,\n",
       " c_a-c: abinit,\n",
       " c_a-sic: abinit,\n",
       " c_a-cge: abinit,\n",
       " c_a-ge: abinit,\n",
       " c_a-sige: abinit,\n",
       " c_a-sn: abinit,\n",
       " c_a-snsi: abinit,\n",
       " c_a-gesn: abinit,\n",
       " sic_a-si: abinit,\n",
       " sic_a-c: abinit,\n",
       " sic_a-sic: abinit,\n",
       " sic_a-cge: abinit,\n",
       " sic_a-ge: abinit,\n",
       " sic_a-sige: abinit,\n",
       " sic_a-sn: abinit,\n",
       " sic_a-snsi: abinit,\n",
       " sic_a-gesn: abinit,\n",
       " cge_a-si: abinit,\n",
       " cge_a-c: abinit,\n",
       " cge_a-sic: abinit,\n",
       " cge_a-cge: abinit,\n",
       " cge_a-ge: abinit,\n",
       " cge_a-sige: abinit,\n",
       " cge_a-sn: abinit,\n",
       " cge_a-snsi: abinit,\n",
       " cge_a-gesn: abinit,\n",
       " ge_a-si: abinit,\n",
       " ge_a-c: abinit,\n",
       " ge_a-sic: abinit,\n",
       " ge_a-cge: abinit,\n",
       " ge_a-ge: abinit,\n",
       " ge_a-sige: abinit,\n",
       " ge_a-sn: abinit,\n",
       " ge_a-snsi: abinit,\n",
       " ge_a-gesn: abinit,\n",
       " sige_a-si: abinit,\n",
       " sige_a-c: abinit,\n",
       " sige_a-sic: abinit,\n",
       " sige_a-cge: abinit,\n",
       " sige_a-ge: abinit,\n",
       " sige_a-sige: abinit,\n",
       " sige_a-sn: abinit,\n",
       " sige_a-snsi: abinit,\n",
       " sige_a-gesn: abinit,\n",
       " sn_a-si: abinit,\n",
       " sn_a-c: abinit,\n",
       " sn_a-sic: abinit,\n",
       " sn_a-cge: abinit,\n",
       " sn_a-ge: abinit,\n",
       " sn_a-sige: abinit,\n",
       " sn_a-sn: abinit,\n",
       " sn_a-snsi: abinit,\n",
       " sn_a-gesn: abinit,\n",
       " snsi_a-si: abinit,\n",
       " snsi_a-c: abinit,\n",
       " snsi_a-sic: abinit,\n",
       " snsi_a-cge: abinit,\n",
       " snsi_a-ge: abinit,\n",
       " snsi_a-sige: abinit,\n",
       " snsi_a-sn: abinit,\n",
       " snsi_a-snsi: abinit,\n",
       " snsi_a-gesn: abinit,\n",
       " gesn_a-si: abinit,\n",
       " gesn_a-c: abinit,\n",
       " gesn_a-sic: abinit,\n",
       " gesn_a-cge: abinit,\n",
       " gesn_a-ge: abinit,\n",
       " gesn_a-sige: abinit,\n",
       " gesn_a-sn: abinit,\n",
       " gesn_a-snsi: abinit,\n",
       " gesn_a-gesn: abinit,\n",
       " gaas_a-gaas: abinit,\n",
       " gaas_a-alp: abinit,\n",
       " gaas_a-alas: abinit,\n",
       " gaas_a-alsb: abinit,\n",
       " gaas_a-gap: abinit,\n",
       " gaas_a-gasb: abinit,\n",
       " gaas_a-inp: abinit,\n",
       " gaas_a-inas: abinit,\n",
       " gaas_a-insb: abinit,\n",
       " alp_a-gaas: abinit,\n",
       " alp_a-alp: abinit,\n",
       " alp_a-alas: abinit,\n",
       " alp_a-alsb: abinit,\n",
       " alp_a-gap: abinit,\n",
       " alp_a-gasb: abinit,\n",
       " alp_a-inp: abinit,\n",
       " alp_a-inas: abinit,\n",
       " alp_a-insb: abinit,\n",
       " alas_a-gaas: abinit,\n",
       " alas_a-alp: abinit,\n",
       " alas_a-alas: abinit,\n",
       " alas_a-alsb: abinit,\n",
       " alas_a-gap: abinit,\n",
       " alas_a-gasb: abinit,\n",
       " alas_a-inp: abinit,\n",
       " alas_a-inas: abinit,\n",
       " alas_a-insb: abinit,\n",
       " alsb_a-gaas: abinit,\n",
       " alsb_a-alp: abinit,\n",
       " alsb_a-alas: abinit,\n",
       " alsb_a-alsb: abinit,\n",
       " alsb_a-gap: abinit,\n",
       " alsb_a-gasb: abinit,\n",
       " alsb_a-inp: abinit,\n",
       " alsb_a-inas: abinit,\n",
       " alsb_a-insb: abinit,\n",
       " gap_a-gaas: abinit,\n",
       " gap_a-alp: abinit,\n",
       " gap_a-alas: abinit,\n",
       " gap_a-alsb: abinit,\n",
       " gap_a-gap: abinit,\n",
       " gap_a-gasb: abinit,\n",
       " gap_a-inp: abinit,\n",
       " gap_a-inas: abinit,\n",
       " gap_a-insb: abinit,\n",
       " gasb_a-gaas: abinit,\n",
       " gasb_a-alp: abinit,\n",
       " gasb_a-alas: abinit,\n",
       " gasb_a-alsb: abinit,\n",
       " gasb_a-gap: abinit,\n",
       " gasb_a-gasb: abinit,\n",
       " gasb_a-inp: abinit,\n",
       " gasb_a-inas: abinit,\n",
       " gasb_a-insb: abinit,\n",
       " inp_a-gaas: abinit,\n",
       " inp_a-alp: abinit,\n",
       " inp_a-alas: abinit,\n",
       " inp_a-alsb: abinit,\n",
       " inp_a-gap: abinit,\n",
       " inp_a-gasb: abinit,\n",
       " inp_a-inp: abinit,\n",
       " inp_a-inas: abinit,\n",
       " inp_a-insb: abinit,\n",
       " inas_a-gaas: abinit,\n",
       " inas_a-alp: abinit,\n",
       " inas_a-alas: abinit,\n",
       " inas_a-alsb: abinit,\n",
       " inas_a-gap: abinit,\n",
       " inas_a-gasb: abinit,\n",
       " inas_a-inp: abinit,\n",
       " inas_a-inas: abinit,\n",
       " inas_a-insb: abinit,\n",
       " insb_a-gaas: abinit,\n",
       " insb_a-alp: abinit,\n",
       " insb_a-alas: abinit,\n",
       " insb_a-alsb: abinit,\n",
       " insb_a-gap: abinit,\n",
       " insb_a-gasb: abinit,\n",
       " insb_a-inp: abinit,\n",
       " insb_a-inas: abinit,\n",
       " insb_a-insb: abinit]"
      ]
     },
     "execution_count": 5,
     "metadata": {},
     "output_type": "execute_result"
    }
   ],
   "source": [
    "inps_ref"
   ]
  },
  {
   "cell_type": "markdown",
   "metadata": {
    "deletable": true,
    "editable": true
   },
   "source": [
    "# HSE06, fresh restart is necessary"
   ]
  },
  {
   "cell_type": "code",
   "execution_count": 8,
   "metadata": {
    "collapsed": false,
    "deletable": true,
    "editable": true
   },
   "outputs": [],
   "source": [
    "qmsetting_base = {\n",
    "    'cutoff': 10,\n",
    "    'program': 'abinit',\n",
    "    'save_restart': True,\n",
    "    'save_density': True, \n",
    "    'link_dep': True, \n",
    "    'threads': 1,\n",
    "    'ks_states': 10,\n",
    "}\n",
    "\n",
    "q_bnd = {\n",
    "    'restart': True,\n",
    "    'restart_density': True,\n",
    "    'band_scan': [\n",
    "     [15, 20],\n",
    "     [[0.5, 0.0, 0.25],  # L\n",
    "      [0.0, 0.0, 0.0],   # Gamma\n",
    "      [0.0, 0.5, 0.5],   # X\n",
    "     ]],\n",
    "}\n",
    "qmsetting_bnd = copy.deepcopy(qmsetting_base)\n",
    "qmsetting_bnd.update(q_bnd)\n",
    "\n",
    "q_dos = {\n",
    "    'restart': True,\n",
    "    'restart_density': True,\n",
    "    'dos_mesh': [12,12,12],\n",
    "}\n",
    "qmsetting_dos = copy.deepcopy(qmsetting_base)\n",
    "qmsetting_dos.update(q_dos)\n",
    "\n",
    "ref_den_path = 'Eg_ref_vary_a_den_rst'\n",
    "ref_bnd_path = 'Eg_ref_vary_a_bnd_rst'\n",
    "ref_dos_path = 'Eg_ref_vary_a_dos_rst'"
   ]
  },
  {
   "cell_type": "code",
   "execution_count": 14,
   "metadata": {
    "collapsed": false,
    "deletable": true,
    "editable": true
   },
   "outputs": [],
   "source": [
    "mol_base = []\n",
    "#for cyl in ['si', 'gaas', 'cdse']:\n",
    "for cyl in ['si', 'gaas']:\n",
    "    name = 'xyz/%s.xyz' % cyl\n",
    "    mol_base.append(qtk.Molecule(name))\n",
    "mol_base\n",
    "\n",
    "mols_grp = []\n",
    "for mol in mol_base:\n",
    "    for info_mol in cyl_map[mol.name]:\n",
    "        mol_grp = []\n",
    "        for info_a in cyl_map[mol.name]:\n",
    "            new = mol.copy()\n",
    "            new.name = info_mol[0] + '_a-' + info_a[0]\n",
    "            new.setCelldm([info_a[1], info_a[1], info_a[1], 0, 0, 0])\n",
    "            for i in range(new.N):\n",
    "                if new.Z[i] != info_mol[2][i]:\n",
    "                    new.setAtoms(i, Z=info_mol[2][i])\n",
    "            mol_grp.append(new)\n",
    "        mols_grp.append(mol_grp)\n",
    "    \n",
    "mols_all = list(qtk.flatten(mols_grp))\n",
    "mols_all.reverse()\n",
    "\n",
    "inps_ref_den = [qtk.QMInp(mol, kmesh = [5,5,5], **qmsetting_base) for mol in mols_all]\n",
    "\n",
    "cwd = os.getcwd() + '/'\n",
    "inps_ref_bnd = []\n",
    "inps_ref_dos = []\n",
    "for mol in mols_all:\n",
    "    inp_bnd = qtk.QMInp(mol, \n",
    "                        restart_density_path = cwd + ref_den_path + '/%s' % mol.name,\n",
    "                        **qmsetting_bnd)\n",
    "    inp_dos = qtk.QMInp(mol, \n",
    "                        restart_density_path = cwd + ref_den_path + '/%s' % mol.name,\n",
    "                        **qmsetting_dos)\n",
    "    inps_ref_bnd.append(inp_bnd)\n",
    "    inps_ref_dos.append(inp_dos)\n",
    "    "
   ]
  },
  {
   "cell_type": "code",
   "execution_count": 16,
   "metadata": {
    "collapsed": false,
    "deletable": true,
    "editable": true
   },
   "outputs": [
    {
     "data": {
      "text/plain": [
       "162"
      ]
     },
     "execution_count": 16,
     "metadata": {},
     "output_type": "execute_result"
    }
   ],
   "source": [
    "len(inps_ref_bnd)"
   ]
  },
  {
   "cell_type": "code",
   "execution_count": 18,
   "metadata": {
    "collapsed": false,
    "deletable": true,
    "editable": true
   },
   "outputs": [
    {
     "name": "stdout",
     "output_type": "stream",
     "text": [
      " pp file In_pbe_pbe not found in /home/samio/.local/lib/python2.7/site-packages/qctoolkit-0.0.14-py2.7-linux-x86_64.egg/qctoolkit/data/PP/bigdft. But found in cp2k page, download now... \n",
      " pp file Sb_pbe_pbe not found in /home/samio/.local/lib/python2.7/site-packages/qctoolkit-0.0.14-py2.7-linux-x86_64.egg/qctoolkit/data/PP/bigdft. But found in cp2k page, download now... \n",
      "\u001b[93m/home/samio/Works/PhD/projects/01_AlGaAs/60_Eg/02_qtkTest/Eg_ref_vary_a_den_rst/insb_a-insb not found\u001b[0m\n",
      "# abinit input generated by qctoolkit\n",
      "\n",
      "# datasets section\n",
      "ndtset 2\n",
      "\n",
      "# scf section\n",
      "ngkpt1 5 5 5\n",
      "shiftk1 0.0 0.0 0.0\n",
      "\n",
      "# band_scan section\n",
      "iscf2 -2\n",
      "getden2 -1\n",
      "kptopt2 -2\n",
      "tolwfr2 1e-05\n",
      "ndivk2 15 20\n",
      "kptbounds2 0.5 0.0 0.25\n",
      "           0.0 0.0 0.0\n",
      "           0.0 0.5 0.5\n",
      "prtwf2 1\n",
      "prtden2 1\n",
      "\n",
      "# cell section\n",
      "ecut 5.0\n",
      "nstep 1000\n",
      "acell 1 1 1\n",
      "rprim 0.0 6.11326401435 6.11326401435\n",
      "      6.11326401435 0.0 6.11326401435\n",
      "      6.11326401435 6.11326401435 0.0\n",
      "\n",
      "# atoms section\n",
      "natom 2\n",
      "ntypat 2\n",
      "typat 1 2\n",
      "znucl 49 51\n",
      "xred\n",
      "\n",
      "     0.0 0.0 0.0\n",
      "     0.25 0.25 0.25\n"
     ]
    },
    {
     "data": {
      "text/plain": [
       "<qctoolkit.QM.general_io.InpContent at 0x2ba3217cfe10>"
      ]
     },
     "execution_count": 18,
     "metadata": {},
     "output_type": "execute_result"
    }
   ],
   "source": [
    "inps_ref_bnd[0].write()"
   ]
  },
  {
   "cell_type": "code",
   "execution_count": null,
   "metadata": {
    "collapsed": true,
    "deletable": true,
    "editable": true
   },
   "outputs": [],
   "source": []
  }
 ],
 "metadata": {
  "kernelspec": {
   "display_name": "Python 2",
   "language": "python",
   "name": "python2"
  },
  "language_info": {
   "codemirror_mode": {
    "name": "ipython",
    "version": 2
   },
   "file_extension": ".py",
   "mimetype": "text/x-python",
   "name": "python",
   "nbconvert_exporter": "python",
   "pygments_lexer": "ipython2",
   "version": "2.7.13"
  }
 },
 "nbformat": 4,
 "nbformat_minor": 2
}
